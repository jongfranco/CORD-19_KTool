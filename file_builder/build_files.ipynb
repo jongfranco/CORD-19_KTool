{
 "cells": [
  {
   "cell_type": "code",
   "execution_count": 1,
   "metadata": {},
   "outputs": [],
   "source": [
    "import ipywidgets as widgets\n",
    "from IPython.display import clear_output\n",
    "from ipywidgets import interact, interactive, fixed, interact_manual\n",
    "from ipywidgets import Layout, Button, Box, FloatProgress\n",
    "from ipyfilechooser import FileChooser\n"
   ]
  },
  {
   "cell_type": "code",
   "execution_count": 2,
   "metadata": {},
   "outputs": [],
   "source": [
    "from research_aspect_classifier import ResearchAspectClassifier\n",
    "\n",
    "import IPython\n",
    "store = IPython.get_ipython().find_line_magic('store')\n",
    "\n",
    "import re\n",
    "import spacy\n",
    "import scispacy\n",
    "from scispacy.linking import EntityLinker\n",
    "\n",
    "import ktrain\n",
    "import csv\n",
    "\n",
    "import pickle\n",
    "\n",
    "import os\n",
    "import zipfile\n",
    "\n",
    "import shutil\n",
    "\n",
    "import random\n",
    "\n",
    "import numpy"
   ]
  },
  {
   "cell_type": "code",
   "execution_count": 3,
   "metadata": {},
   "outputs": [],
   "source": [
    "#bio_nlp = spacy.load('en_ner_bionlp13cg_md')\n",
    "#nlp_sentences = spacy.load('en_core_sci_lg')\n",
    "\n",
    "#linker = EntityLinker(resolve_abbreviations=True, name=\"mesh\")"
   ]
  },
  {
   "cell_type": "code",
   "execution_count": 4,
   "metadata": {},
   "outputs": [],
   "source": [
    "#bio_nlp.add_pipe(linker)"
   ]
  },
  {
   "cell_type": "code",
   "execution_count": 5,
   "metadata": {},
   "outputs": [],
   "source": [
    "#doc = bio_nlp(\"Myeloid derived suppressor cells (MDSC) are immature myeloid cells with immunosuppressive activity. They accumulate in tumor-bearing mice and humans  with different types of cancer, including hepatocellular  carcinoma (HCC)\")\n",
    "\n",
    "#print(doc.ents[5].label_)\n",
    "\n",
    "#linker.umls.cui_to_entity[doc.ents[5]._.umls_ents[0][0]]"
   ]
  },
  {
   "cell_type": "markdown",
   "metadata": {},
   "source": [
    "## GLOBAL VARIABLES"
   ]
  },
  {
   "cell_type": "code",
   "execution_count": 6,
   "metadata": {},
   "outputs": [],
   "source": [
    "test_uids = ['seb7xtko', 'dhg69jeq', 'p3st70u3', 'r6p91ygh', 'q8b64s15', 'iebu1kyw', 'ceqe5efl', 'pqq6a75m', '6b3ft81h', 'li71b9e0', 'rgwuem9g', 'n3yt9knx', '0rctn9nf', 'g8p2lsr0', 'cbesypla', 'lkzytud0', '3s0x8yxi', '2utcn0hw', 'oyk43ts7', 'n4v4n8d1', 'tu5yky7m', 'elwxd4oz', '3ngrtmb0', 'zsgjxn7s', 'fybbnn46', '3qjhfyuq', 'adbrjtnc', 'vsbjwsvu', 'iww72doh', 'x32bbhv3', 'b85muuh6', 'pb2weyqz', 'oyhjeyv8', '6ro2deuv', 'jucwmkms', 'jpi5jy06', 'jzc4ol7w', 'yudrouue', 'a2g2g61j', 'e6mj2o9p', 'cy2gjosg', 'j3rku6rr', 'f7pbn19g', 'd35kfv9r', 'esmih9j8', '41zwr69x', 'j9nigxff', 'iobpcfs5', 'h9mv7i4a', 'ln26bux8', '42yy437x', 'e5mf6qdo', 'etx23fuy', 'qwk7e8s7', 'ejwm0ksd', 'kw4aqvbp', 'euecm9n4', '63sxjgtp', 'xt09q1z5', 'ikt5apg9', 'p1iwfpc4', '6x7hzu3u', 'jv75fxn2', 'h1niamj2', 's0fiiddr', 'au3pupnw', 'u44dz82a', 'c32lvwcc', '71g6qazk', '0owextim', 'ed3p0438', 'rq1o09td', '5t1q3emw', 'c32hwa3g', '3a3ngzvo', 'kgifmjvb', 'cfpd45qf', '6v3jpal4', '4yys8nmi', 'fpbopvba', 'yvjxw39o', 'b7m40t6p', 'hxioe4mt', '22zuj4m4', 'jd47syci', '1wlwwp4i', '6p7je20a', 'kx2laysf', '9jivbn46', 'vtnoarr8', 'g4u3o6qy', 'k13cchxn', '0zr55dxa', 'en3tsuzv', 'dxqqfr90', 'qvu7981m', 'clqo8auc', 'ml97r3bw', '44zmn1oz', 'xc0tvqpu', '23fywjz6', 'k0997ljb', 'vhcemuxj', 'khrxro3s', 'dv1g8jz7', 'xvkc8iw3', 'mqa4m0lq', 'gao2s1yt', 'hvbsx5an', '7gi4hy08', 'n5dpcmf7', 'w6hcwil1', '3ysbwdvv', '1hafm0sy', 'vrqe7kxm', '1fjr9qr4', '18mdy19k', 'tsxpexra', '1sbnewog', 'jmjsbktd', '5i39j1tm', '0nyj1sbm', '2nmdyf7b', 'pks8vxfe', 'qkxkamdb', 'knr0r72j', 'n2trd0m6', 'fx2dbld5', 'oamkf2d9', 'qtxh4ttp', 'yiyt11nn', 'tncff6u7', 'xz0k3zqk', '6lgrx6vz', 'jxnl4iqc', 'qacys9e3', 'kfy3djkk', 'qj43rgra', '91zxeqwy', '0s70cjwi', 'cjo0hz70', 'piog9y9o', 'tcuqqbwo', 'johlu7hk', 'va360tdg', '124oatxm', '1ud5hzlh', '41c2rgkj', 'o43aa692', 'jn0e81fi', 'vxcj25sn', 'nbzbmrsd', 'hzo6ts3r', 'ivec5koq', '8w826lbp', 'rb9s05r8', 'vmyt1tni', 'nph7f32s', 'i1w2snyy', 'zx058wg2', 'tsbsw6en', 'e90z0j4b', 'wr6w1wem', 'aluthr3w', 'nwlzo60n', '9uirx1da', 'ayj3co0w', 'pw99g4u4', 'nw55dq3l', 'yyu1ip29', 'aaxt0qtk', '34r4ihn3', 'k1xgnwyi', 'urxcx95g', 'gxbf17m8', 'gckcshyb', 'gvluu83h', 'lozvq3y6', 'ailig3qi', '5123jdsh', 'akaqcb4k', '9kbdcjbm', 'sngnrrp5', '0jw1p1b3', 'ze9ay2rm', 'nkvdmvtv', '4vpm7m1h', '70b2e08p', 'mpmf9d89', 'dpui273b', '83d6n6vk', '99jlejuv', '9wjgdina', 'ke4wrmha', 'wtq7oudy', 'xxihlncq', 'lefzx0vi', 'vhl5adaw', 'nda1toup', '7km43hig', 'gs9lga7d', '5cxb9ktc', 'qyyo7pop', '5wakh15h', 'wln94d9q', 'tc3qptp6', 'e7xipd5e', 'omd7kl0b', 'gtfx5cp4', '6cxjph72', 'i5rangti', '75edn47t', 'rsyb3x89', '6krhj43m', '9rxoge9z', '3xvmv7x3', '1eohozz1', 'buavj9mm', 'x0yd9i8j', '8tallaqc', 'nl1re1wg', '75kqrhc3', 'o2ehsogh', 'eud0mawv', 'e0ms9573', 'puhm3w42', 'nzazpeb3', '2s3rmsi0', '54754u0s', '5hwppyig', 'mkepud7y', '8iksxh8i', 'uok8osd5', 'sqqer16k', '6vr0hot5', '63nyq3jp', '6ydn2bvy', 'mofbc1wq', '86u7d6lw', '05w8tv8x', 'jp7cyxu6', 'ao947epu', 'vnqvam94', 'kym7wtbm', 'gxtvlji7', 'yrxq1skm', 'ela022bo', 'llpvrrjp', 'ao7bkcv5', 'lnwhscn3', 'bah2ege0', '4sqrnqq1', '6hf3axps', 'ceo6gfgc', 'ftlhsjbk', 'o4myks0w', 'djeqir0w', 'ypkiptvh', 'uz6jdm2j', 'm6job75h', 'l1gvu5vr', 'n5bqf6rj', 'ruaqs3ai', 'e2ppjbhk', '7gq6c4vf', '1bjyxap4', '59a6bcyv', 'yml7jba8', '54fx3q6y', 'zimkzbr1', 'cn89d1mx', 'wmgt2kgi', 'djixeo1m', 'n8jk0iv3', 'jdv3qtoa', 't8ny31yx', '67t2q5ud', 'qorwfuqk', 'gyyxd1qd', 'y1mxnth7', 'oud5ioks', 'j193gops', 'wdst13j8', '94su1nk1', 'wvxybca4', '53n5i9ck', 'ie97wbjk', '0gozdv43', 'frzos2kk', 'aj4d6mjh', '8k7bgfq9', 'rnmftg3j', 'al90frij', 'bobncdly', 'xql1cl04', 'ezdhmc6m', 'cf6dtixx', 'cx6u4qx8', '3z1tlv7t', '6i0bmnee', 's9jy9f0v', 'aqbtnfcs', 'g6vlxbd0', 'ra8d8h9n', '4abxr469', 'l8ox82ib', 'ljyuoh5q', '61h6mc42', '10b5s81p', 'yiy0tjxh', 'nagxtnva', '96r86l7r', 'okvu49y3', '5zwwo09i', '6wr6h0pf', 'owwdtsh5', '9i8kv8p8', 'pajt3o20', '5casmxue', 'bihc2zh0', 'xwosn8s0', 'gh85khoj', 'lvefk7qx', 'm0slbeb7', '7m7914mq', '09gro5z6', 'c8dgf7mx', 'urur26f5', 'd5hg32u4', 'j66x0fuv', 'fw7deem8', '61b4h5wv', 'aww53e4c', 'i093x35p', 'w8b8k6m1', 'iea8syc2', 'mxk8d9jd', 'orn2jxca', 'utjxu008', '4kd6sduc', 'epkx1u50', '4odvoex0', 'szgp4llf', '4pksrlx7', '1yxibt0s', '9faz67rv', '8xz7xbh1', 'rm3w8z2j', 'w8ukonyg', '06vc2y9y', 'pwbf1t4p', 'crr9vlq9', 'kdjgu93q', 'v10tfut9', 'cijer563', 'w6y2i4yb', 'u59i95rg', '1enb2vxv', '2kt19l2o', 'uuwgpuhw', '5izpb5dm', 'nuww66fv', '0ne3icwz', 'gtzi409o', '1a9acar1', 'wcnzb3o0', 'qt3j8goe', 'lc04tjv9', 'pbzne3fb', 'eljkuann', '4bq4yi4k', '5plfnhoo', '6hv3b953', '7kxtntj2', 'yua2h8y8', 'er50rvxw', '8jdgoq07', 'w66gtl3b', 'ir9pu7wd', 'o87ous7m', '103c8wtt', 'fti4vtdb', '7dzk69dk', 'zr3wn7nd', 'gqdk6jda', 'sazymzvs', 'zzsoqq65', 'r1faonnn', 'uz6usokd', 'ks8z12xi', 'ieatbmak', 'ltuhaurz', 'o30ph6qv', 'e842fwrw', 'pw6dhz1u', 'gofzhff7', 'y2ral8nx', 'dd45natn', '5crabzs0', 'atr9wcx7', '8l831mre', 'n8nn7q4y', 'bq4yroge', '0hzlvwfn', 'pwtpc2jr', 'g5yhvmee', 'uwm9ig5f', 'evv73ry1', '7lao2hgm', '0dq0gzrp', '2zl5k2up', 'foxq4d73', 'bm99zrxz', 'y9fyslgo', 'b4ujldmq', 'g0g9lwu6', 'zbm257hy', '8a1vqale', 'n16pdrc4', 'g0cysz78', 'pq85mvab', 'mj7fkt4f', 'rocec7dx', 'hf9cyr16', 'ngvfz9dn', '479xtnat', 'mncqz868', 'bjc0dmgq', 'js36pw2r', '87b87mys', 'nxa2721s', 'jafaetwr', 'sdvcw99i', 'rsp72rx8', '9l054gml', 'nns46w35', '7txnfxnv', 'nmebqrb1', 'u6shb6x0', 'fucl7iug', '5h2gsvg5', 'w615nlkn', 'mcek2295', 'mv577rok', 'rsb1zm8i', '0s7k8xts', '0wdpdpiz', '594h5qvk', '0tapgczu', 'hwmg4l41', 'eqqdbeyu', 'got2vlwr', 'mnil2z3s', 'sqsff97o', 'ehz7k09z', '9xhtlo1h', 'e2l4ay1a', 'vg0aumik', 'wcsiu7e5', 'u9ywuogd', 'j3g0937s', 'z23n82ky', 'kummh0g7', 'jesnmg0o', 'xe8ddnkc', 'db0l0wja', 'hxwm94ri', 't671fl4d', 'hi7jvnht', 'mqqd128q', 'p6wkzbez', 'd7at4wp4', '3em4hsug', 'ovbqw587', '2lhqoi3f', 'gqsbvold', 'y397znui', 'e4dcisv2', 'mbpdvc9f', '4z740r5a', 'bbumc2p1', 'wio2b49i', '8m05j9k0', 'x8eqvoj6', 'q41m5kzh', 'q3gmhqst', 'riiyc6mt', 'v8i97mbx', 'vos341i1', 'qjg5az3d', 'u6yr8wqh', '2pn34wpf', 'yurbumg2', 'dcg0dvlz', 'lwxd5bq6', 'l59kt1qo', 'mlxcgzs7', '3p0v6u1q', 'ypelbams', 'etrri9tc', 'njp1v3q3', '5pryjyse', 'f55m86o9', '0d35o5hz', 'eajzs9c7', '0h8lzv2f', 'hmusyr6x', '2mendvmg', 'ftcvfgij', 'fjd01lls', 'hqbzwcyz', 'h1e9u886', 'l4ek0xma', '59eumyiv', '9x79p8m8', '5p5z35o3', '1u26jo1n', 'hvamqbg2', 'tslsnzpo', '65nmo7jz', 'i4qdkofr', '21iuob1x', 'g3wa4v2n', 'm68tfnfz', '89csvmq1', 'csjwwe2w', '842mo0o5', '1hh1vpa4', 'usu6laaq', 'f7817hnc', 'q0m4i7uv', 'tg3ilqbw', 'e4eew7ha', 'uk9rfwtn', '4i9gbxvb', 't5m297q9', 'c7mynfn5', '0m862lec', 'tfazq3vk', 'd1e7ss4r', 'ax4q0z3r', 'd506pe56', 'i1gdsiw6', 'ii94yz7u', 'u2953gub', 'cie37phr', '7897zxdm', '5l1gnrix', 'peh049wq', '9aw80w6c', '69ewjvf1', '0nxxgwxl', '1lthsqz6', 'yuw3ut1f', 'xxp6u0f8', 'oi73zmvx', 'xavioko7', 'pcnjce08', 'v35ssrb6', '0u3947zy', 'cnwfvtfo', 'idjnu8aj', '86vu0kjm', 'gfmazta8', 'vlaq3sdq', 'qkur6am7', '1ty4ta6w', 'besvz92f', 'qtbrsck8', 'b31w5570', 'm5h2w6nm', 'o06syzda', 'b199a0jb', 'p70n4h9s', 'zc3xd05y', '8kus9b2u', 'xdfou1t8', 'ortugz21', 'rw2vmlno', 'hcqe6xsr', '2u228xe9', 'u9slrjmk', '7bbh1j4h', 'b9f5z8x7', 't6y8vvhn', 'j9c2cu5m', 'z9likkxv', '5m8vsgpo', '0zj4gm0b', 't30jv4pn', '0y94riuk', 'vqd79mf3', 'ubisf6pk', 'pkxmqo08', 'uwbekm5o', 'pjo8v568', 'n55a8sc5', 'd51qtjuy', 'vc6u2b7f', 'e1jvih70', '39q4uqmr', 'j9338csa', 'kheek4lx', 'of9x1xb1', 'sqdhd7cg', 'fopk2uje', '7q0mnfow', 'djw2zzk6', 'yycz5kn4', 'arowt1rx', 'xc65tsts', 'j07d25mn', 'a3spjpb6', 'n4r40yit', 'rqb7j7eq', 'hkt7nktc', '9ef0d653', 'zszcw0xz', 'bxyzhsfs', 'saeto16q', 'xmy4vp1p', '28lmys1a', '7tfg2vf1', '5eqphdmg', 'cy9md5rf', 'bhwx01q7', '8hrw5n51', '7r13m88u', 'pad08tpy', 'oj5rc90g', '8mm6pg8c', 'zjeq74wa', 'qqtd2jt9', 'tngy0gfj', 'w4a0qd9g', 'bk9wfdlh', 'szoxlbxo', 'ckcr60lg', 'uup16bhm', 'g870oe7i', 'xsroivzj', 'qca9sj1n', 'mmoww52i', '08ugoxns', '9gqdlxx0', 'fxl4dp3c', 'ukvu2jjg', 'bhlnwu69', 'w6zoo59t', 'tltm1yld', 'uszezah4', 'gsdv09ka', '3798plin', 'jtgx3uea', 'npyy5vk6', '5vh2uza9', 'xndjru4d', 'vvz01320', 'jzcppkkc', 'o2u06oad', '98tcf05l', 'cai6tqxq', '8b1ppt9t', 'quw1l42a', '7lzyvzg2', 'v63cfbi4', 'rprrkr37', 'yj2er4yr', 'fjd3nqdv', '28kcj0x0', 'jnytov0d', '4e7e1d1t', 'uzqnv7m8', 'vtsf370a', '68uimhq6', 'fwwinhg0', 'i6g23sgh', 't25vr4zd', 'j6gbj8z0', '8al6k7z4', 'gzdy25vv', '3x6833bp', '4ta4gfv4', 'a6b1of5n', 'xnfqb0zp', 'e71qy4yh', 'rzl7niqg', '3ttro2mq', 'fg2asgkr', 'ih0z0ohw', 'ijvitvir', 's60vzf3q', '6bgiwbn1', 'rjw47tjs', 'zkgb16ae', 'qganovk7', '3akzvzei', '0srk36qz', '6bhmgi07', 'hlekc96l', 'mhodoe61', '4543odki', 'b2ze4yzv', '3h7xh51b', '1j2t48m4', 'dbc83xjw', 'at3jjjnb', '17ajpoyf', '059hsw26', 'l5zxic3y', 'x2lxxhxq', '9lhkvnxx', '2ug1zdcc', 'kv78e00d', 'x0t5b3b6', '47496o0e', 'i2dyt6ym', 'k6k4c3th', 'wtyroniv', 'ivwyvb4s', '7rbjywbf', 'rvvnmwij', 'a7jw4qcu', 'adj4zs4p', 'nztprmoh', 'i7zl0dgu', 'nthch22d', 'i0v4thcv', 'k5sy4h93', '8rqtj1ws', 'wryr7qhc', 'vbq9izw3', 'wije0usm', 'nwxmmfxq', '6w6lpo9s', 'kjet3e50', '6teff797', 'xmh83ovt', 'oxfdu6dl', 'mjbuzl07', '197i9kfe', 'jzhx5pww', 'kj5od89q', 'zd9x7q41', 'g457f9xa', 'f9assav9', '7wqw8kj8', 'dyajctsu', 'yqcvw0sm', 'igqrsk4g', '1tu8fnpx', 'nvbtxdvi', 'ckkddt4r', 'bcrbk6tc', 'saloatt2', 'selnxebs', '3b2e8x8z', 'w8ek01h2', 'vggre8sk', '89amb9gr', '114uvnt3', '4kbo1nef', 'jtj28yg6', 'mr6mfsyt', 'cdo8qwx3', 'jjwrd2uo', '0widzusx', 'lxq6vsf0', 'dputhloy', 'o86z4qgj', '89xnnvuv', 'hgck2kfu', 'd55qcovw', 'xhiysgon', '25o2fw20', '2pd801t1', 'xflpe1y8', 'cwv1et87', 'yr604tjg', '4watp662', 'k1d1r0l6', '3nfvupmp', '71o6oig8', '2yedvp63', 'tlsnp801', 'agq6z8q0', 'qazb54qy', 'b0ai5q1s', '66o6f5h0', '1swjh13y', 'bfibezx7', 'p73sz5bj', 'shfy42yc', 'qw8z28wq', '6ccjpyxq', '1xlop4lh', 'aet9nitv', 'zkbktr24', '4rh6d5er', '9sxmhvy2', 'o6ghh7xe', 'd1oj15cw', 'ypmqyzu8', 'p5dysa6m', 'ug7ijowz', 'itfnu5dz', 'r3wfv2nj', 'u2bx4ty4', 'ky0klo5n', 'o1obodz5', 'meds24xi', 'gqdvkdai', 'goui0hge', '8izdrqnk', '0scixahc', '8h6fgudf', 'aibu5k6b', '74qpi7oz', 'ozx2co9f', 'danlsmyc', 'iorwgfbj', 'jez7a0c7', 'miz9wwd6', '734ekxef', 'bmsxoiuy', 'clkl1gxa', 'f6p1shxw', 'b9x0mepy', 'w16xw5y7', 'pwa4oiu5', 'h2ha2efr', 'tj3knwxi', 'uy6sdf69', '9bw9rm6e', '3jprs5q2', 'o2kzb94o', 'mrq5v3pt', 'yk4772h8', 'rurrljcz', 'v3e9uxls', 'qdszrozl', 'oib0nkw7', 'c53064ww', 'd33vifmc', '0nupbrpl', 'mjf7ztx2', 'u86icqcc', '0mctxm6r', 'qnhix9n4', 'tlezrrwm', '1xhmz5l4', 'e7noqf90', 'tggetsup', '9csbecu1', '3cqk3o9w', 'q4zuslmp', 'q3dk25wc', '33gu2iz7', '6noit6yw', 'rf1inf14', 'xweh962v', 'ikikdmjw', 'mtrv8ki3', 'egr6oxc7', 'lel5jqls', 'q9psyb3a', 'wi2hhsmh', 'ma3360o9', 'jcv8knya', '0nwv5pdj', 'i1mdd56z', 'peo238k1', 'itmo8lj7', 'rv056a9a', 'r6e1ajb8', 'n9muewdi', 'ilkusbzg', '22xrjrsv', '1b0vnguy', '7tviw9uh', 'm5vjo3ym', '0ice22z1', 'w1g9t3tg', 'c9ema9pg', 'n4wqy6vh', 'g0ve65be', 'pvbjc43n', 'legqi5cc', 'h0fw93x2', '6buamdgs', '3t0jhzji', 'd1ylvt5w', '0o90qaf7', 'qae0i0aq', 'tia8nqox', '5wirug50', 'kh3kdmq5', 'c3r3apo4', '3xj5ukag', '4xqgmvyw', 'be4yzmv4', 'kcvtvki1', 'dy4i3v2v', '1its28tm', '8ulaw69k', '7icslv2r', 'qzcmtf98', 'xox2nc81', '31cdnwln', 'ww1gvzxb', 'ygxvhnux', 'y1m1xf6i', '2ils0n0u', '76t4vd04', 'f43jek0j', '2b191blm', 'oq1lis8t', 'tgfaujse', '2jt4h6pm', 'qdjzzhyj', '2gk7yepn', 'cxr2yq8q', 'x9ife4c4', '8q6qjzon', 'll0tcmm7', '6f2s40pn', 'zhc94b03', 'fygmlami', 'fcffl6m4', 'ck0xjyfv', 'gqkzk4p9', 'duo0e2fm', 'utfyyuks', 'j571ykzh', 'r9cefnht', '3l4oh7hj', 'twp33bb6', 'e9g0p5mw', 'c2kqqci5', 'zi9l7zyb', 'h9242tm3', 'f4spnfi0', 'qbepevgu', 'x5wx9f1n', 'da4ipk8z', 'y7udizsy', '3zqshwal', 'ea94wn3f', 'd1b664go', '3wlgniyr', 'aux4kh3r', '2wnkyxhz', '4ewxxyxr', 'kss8ipwb', 'wkcd49ew', 'kzx7n1xp', '9ujutdjp', 'otzmqevd', 'kfty0lbc', 'fc152wm3', 'fgjpuzm6', 'vatfdilt', '81l656pq', '294aqph9', 'ba6dxcuc', 'eqdd8wwm', 'phkszpam', 'hgqx01s6', '2z1shejg', 'tzsek11m', 'j7xcay0r', 'ys0lp1am', 'ipoa22xc', 'x8wyyxtb', 'nlyvtv19', 'jf95jbuv', '6bb4q7nv', 'plmux4jy', 'xcq8guzz', 'nrzfhk18', 'r305ihat', 'mjaxw2pw', '9gftenfz', '6llyr0ms', 'yixjpg9u', '003s98ip', 'ea9mn0io', 'lcnwzp68', 'qoes0lq4', 'l9tdc897', '42fv8wby', '6qa17pfb', 'vkv24rrc', 'h36q6qr6', 'j80hnhpb', 'rmf0azon', 'i7nmckr6']"
   ]
  },
  {
   "cell_type": "code",
   "execution_count": 7,
   "metadata": {},
   "outputs": [],
   "source": [
    "MACRO_TOPICS = ['Coronavirus', 'Public health and epidemics', 'Molecular biology', 'Influenza', 'Immunology',\n",
    "               'Rotavirus', 'Antivirals', 'Clinical trials', 'Testing and diagnosing']"
   ]
  },
  {
   "cell_type": "code",
   "execution_count": 8,
   "metadata": {},
   "outputs": [],
   "source": [
    "RESEARCH_ASPECTS = [\"Background\", \"Purpose\", \"Method\", \"Finding_Contribution\", \"Other\"]"
   ]
  },
  {
   "cell_type": "code",
   "execution_count": 9,
   "metadata": {},
   "outputs": [],
   "source": [
    "av = [\"Background\", \"Purpose\", \"Method\", \"Finding_Contribution\"]"
   ]
  },
  {
   "cell_type": "code",
   "execution_count": 10,
   "metadata": {},
   "outputs": [],
   "source": [
    "stop_words = [\"coronavirus-2\", \"method\", \"introduction\",\"conclusions\",\"virus\",\"paper\",\"studies\", \"coronaviruses\",\"coronavirus\",\"covid-19\",\"sars-cov-2\",\"disease\",\"conclusion\",\"background\", \"purpose\", \"methods\", \"Background\",  \"Purpose\", \"Method\", \"Finding\", \"Conclusion\", \"coronavirus\", \"Sars-Cov-2\",\"acute\", \"severe\", \"Covid-19\", \"study\", \"research\", \"0o\", \"0s\", \"3a\", \"3b\", \"3d\", \"6b\", \"6o\", \"a\", \"a1\", \"a2\", \"a3\", \"a4\", \"ab\", \"able\", \"about\", \"above\", \"abst\", \"ac\", \"accordance\", \"according\", \"accordingly\", \"across\", \"act\", \"actually\", \"ad\", \"added\", \"adj\", \"ae\", \"af\", \"affected\", \"affecting\", \"affects\", \"after\", \"afterwards\", \"ag\", \"again\", \"against\", \"ah\", \"ain\", \"ain't\", \"aj\", \"al\", \"all\", \"allow\", \"allows\", \"almost\", \"alone\", \"along\", \"already\", \"also\", \"although\", \"always\", \"am\", \"among\", \"amongst\", \"amoungst\", \"amount\", \"an\", \"and\", \"announce\", \"another\", \"any\", \"anybody\", \"anyhow\", \"anymore\", \"anyone\", \"anything\", \"anyway\", \"anyways\", \"anywhere\", \"ao\", \"ap\", \"apart\", \"apparently\", \"appear\", \"appreciate\", \"appropriate\", \"approximately\", \"ar\", \"are\", \"aren\", \"arent\", \"aren't\", \"arise\", \"around\", \"as\", \"a's\", \"aside\", \"ask\", \"asking\", \"associated\", \"at\", \"au\", \"auth\", \"av\", \"available\", \"aw\", \"away\", \"awfully\", \"ax\", \"ay\", \"az\", \"b\", \"b1\", \"b2\", \"b3\", \"ba\", \"back\", \"bc\", \"bd\", \"be\", \"became\", \"because\", \"become\", \"becomes\", \"becoming\", \"been\", \"before\", \"beforehand\", \"begin\", \"beginning\", \"beginnings\", \"begins\", \"behind\", \"being\", \"believe\", \"below\", \"beside\", \"besides\", \"best\", \"better\", \"between\", \"beyond\", \"bi\", \"bill\", \"biol\", \"bj\", \"bk\", \"bl\", \"bn\", \"both\", \"bottom\", \"bp\", \"br\", \"brief\", \"briefly\", \"bs\", \"bt\", \"bu\", \"but\", \"bx\", \"by\", \"c\", \"c1\", \"c2\", \"c3\", \"ca\", \"call\", \"came\", \"can\", \"cannot\", \"cant\", \"can't\", \"cause\", \"causes\", \"cc\", \"cd\", \"ce\", \"certain\", \"certainly\", \"cf\", \"cg\", \"ch\", \"changes\", \"ci\", \"cit\", \"cj\", \"cl\", \"clearly\", \"cm\", \"c'mon\", \"cn\", \"co\", \"com\", \"come\", \"comes\", \"con\", \"concerning\", \"consequently\", \"consider\", \"considering\", \"contain\", \"containing\", \"contains\", \"corresponding\", \"could\", \"couldn\", \"couldnt\", \"couldn't\", \"course\", \"cp\", \"cq\", \"cr\", \"cry\", \"cs\", \"c's\", \"ct\", \"cu\", \"currently\", \"cv\", \"cx\", \"cy\", \"cz\", \"d\", \"d2\", \"da\", \"date\", \"dc\", \"dd\", \"de\", \"definitely\", \"describe\", \"described\", \"despite\", \"detail\", \"df\", \"di\", \"did\", \"didn\", \"didn't\", \"different\", \"dj\", \"dk\", \"dl\", \"do\", \"does\", \"doesn\", \"doesn't\", \"doing\", \"don\", \"done\", \"don't\", \"down\", \"downwards\", \"dp\", \"dr\", \"ds\", \"dt\", \"du\", \"due\", \"during\", \"dx\", \"dy\", \"e\", \"e2\", \"e3\", \"ea\", \"each\", \"ec\", \"ed\", \"edu\", \"ee\", \"ef\", \"effect\", \"eg\", \"ei\", \"eight\", \"eighty\", \"either\", \"ej\", \"el\", \"eleven\", \"else\", \"elsewhere\", \"em\", \"empty\", \"en\", \"end\", \"ending\", \"enough\", \"entirely\", \"eo\", \"ep\", \"eq\", \"er\", \"es\", \"especially\", \"est\", \"et\", \"et-al\", \"etc\", \"eu\", \"ev\", \"even\", \"ever\", \"every\", \"everybody\", \"everyone\", \"everything\", \"everywhere\", \"ex\", \"exactly\", \"example\", \"except\", \"ey\", \"f\", \"f2\", \"fa\", \"far\", \"fc\", \"few\", \"ff\", \"fi\", \"fifteen\", \"fifth\", \"fify\", \"fill\", \"find\", \"fire\", \"first\", \"five\", \"fix\", \"fj\", \"fl\", \"fn\", \"fo\", \"followed\", \"following\", \"follows\", \"for\", \"former\", \"formerly\", \"forth\", \"forty\", \"found\", \"four\", \"fr\", \"from\", \"front\", \"fs\", \"ft\", \"fu\", \"full\", \"further\", \"furthermore\", \"fy\", \"g\", \"ga\", \"gave\", \"ge\", \"get\", \"gets\", \"getting\", \"gi\", \"give\", \"given\", \"gives\", \"giving\", \"gj\", \"gl\", \"go\", \"goes\", \"going\", \"gone\", \"got\", \"gotten\", \"gr\", \"greetings\", \"gs\", \"gy\", \"h\", \"h2\", \"h3\", \"had\", \"hadn\", \"hadn't\", \"happens\", \"hardly\", \"has\", \"hasn\", \"hasnt\", \"hasn't\", \"have\", \"haven\", \"haven't\", \"having\", \"he\", \"hed\", \"he'd\", \"he'll\", \"hello\", \"help\", \"hence\", \"her\", \"here\", \"hereafter\", \"hereby\", \"herein\", \"heres\", \"here's\", \"hereupon\", \"hers\", \"herself\", \"hes\", \"he's\", \"hh\", \"hi\", \"hid\", \"him\", \"himself\", \"his\", \"hither\", \"hj\", \"ho\", \"home\", \"hopefully\", \"how\", \"howbeit\", \"however\", \"how's\", \"hr\", \"hs\", \"http\", \"hu\", \"hundred\", \"hy\", \"i\", \"i2\", \"i3\", \"i4\", \"i6\", \"i7\", \"i8\", \"ia\", \"ib\", \"ibid\", \"ic\", \"id\", \"i'd\", \"ie\", \"if\", \"ig\", \"ignored\", \"ih\", \"ii\", \"ij\", \"il\", \"i'll\", \"im\", \"i'm\", \"immediate\", \"immediately\", \"importance\", \"important\", \"in\", \"inasmuch\", \"inc\", \"indeed\", \"index\", \"indicate\", \"indicated\", \"indicates\", \"information\", \"inner\", \"insofar\", \"instead\", \"interest\", \"into\", \"invention\", \"inward\", \"io\", \"ip\", \"iq\", \"ir\", \"is\", \"isn\", \"isn't\", \"it\", \"itd\", \"it'd\", \"it'll\", \"its\", \"it's\", \"itself\", \"iv\", \"i've\", \"ix\", \"iy\", \"iz\", \"j\", \"jj\", \"jr\", \"js\", \"jt\", \"ju\", \"just\", \"k\", \"ke\", \"keep\", \"keeps\", \"kept\", \"kg\", \"kj\", \"km\", \"know\", \"known\", \"knows\", \"ko\", \"l\", \"l2\", \"la\", \"largely\", \"last\", \"lately\", \"later\", \"latter\", \"latterly\", \"lb\", \"lc\", \"le\", \"least\", \"les\", \"less\", \"lest\", \"let\", \"lets\", \"let's\", \"lf\", \"like\", \"liked\", \"likely\", \"line\", \"little\", \"lj\", \"ll\", \"ll\", \"ln\", \"lo\", \"look\", \"looking\", \"looks\", \"los\", \"lr\", \"ls\", \"lt\", \"ltd\", \"m\", \"m2\", \"ma\", \"made\", \"mainly\", \"make\", \"makes\", \"many\", \"may\", \"maybe\", \"me\", \"mean\", \"means\", \"meantime\", \"meanwhile\", \"merely\", \"mg\", \"might\", \"mightn\", \"mightn't\", \"mill\", \"million\", \"mine\", \"miss\", \"ml\", \"mn\", \"mo\", \"more\", \"moreover\", \"most\", \"mostly\", \"move\", \"mr\", \"mrs\", \"ms\", \"mt\", \"mu\", \"much\", \"mug\", \"must\", \"mustn\", \"mustn't\", \"my\", \"myself\", \"n\", \"n2\", \"na\", \"name\", \"namely\", \"nay\", \"nc\", \"nd\", \"ne\", \"near\", \"nearly\", \"necessarily\", \"necessary\", \"need\", \"needn\", \"needn't\", \"needs\", \"neither\", \"never\", \"nevertheless\", \"new\", \"next\", \"ng\", \"ni\", \"nine\", \"ninety\", \"nj\", \"nl\", \"nn\", \"no\", \"nobody\", \"non\", \"none\", \"nonetheless\", \"noone\", \"nor\", \"normally\", \"nos\", \"not\", \"noted\", \"nothing\", \"novel\", \"now\", \"nowhere\", \"nr\", \"ns\", \"nt\", \"ny\", \"o\", \"oa\", \"ob\", \"obtain\", \"obtained\", \"obviously\", \"oc\", \"od\", \"of\", \"off\", \"often\", \"og\", \"oh\", \"oi\", \"oj\", \"ok\", \"okay\", \"ol\", \"old\", \"om\", \"omitted\", \"on\", \"once\", \"one\", \"ones\", \"only\", \"onto\", \"oo\", \"op\", \"oq\", \"or\", \"ord\", \"os\", \"ot\", \"other\", \"others\", \"otherwise\", \"ou\", \"ought\", \"our\", \"ours\", \"ourselves\", \"out\", \"outside\", \"over\", \"overall\", \"ow\", \"owing\", \"own\", \"ox\", \"oz\", \"p\", \"p1\", \"p2\", \"p3\", \"page\", \"pagecount\", \"pages\", \"par\", \"part\", \"particular\", \"particularly\", \"pas\", \"past\", \"pc\", \"pd\", \"pe\", \"per\", \"perhaps\", \"pf\", \"ph\", \"pi\", \"pj\", \"pk\", \"pl\", \"placed\", \"please\", \"plus\", \"pm\", \"pn\", \"po\", \"poorly\", \"possible\", \"possibly\", \"potentially\", \"pp\", \"pq\", \"pr\", \"predominantly\", \"present\", \"presumably\", \"previously\", \"primarily\", \"probably\", \"promptly\", \"proud\", \"provides\", \"ps\", \"pt\", \"pu\", \"put\", \"py\", \"q\", \"qj\", \"qu\", \"que\", \"quickly\", \"quite\", \"qv\", \"r\", \"r2\", \"ra\", \"ran\", \"rather\", \"rc\", \"rd\", \"re\", \"readily\", \"really\", \"reasonably\", \"recent\", \"recently\", \"ref\", \"refs\", \"regarding\", \"regardless\", \"regards\", \"related\", \"relatively\", \"research\", \"research-articl\", \"respectively\", \"resulted\", \"resulting\", \"results\", \"rf\", \"rh\", \"ri\", \"right\", \"rj\", \"rl\", \"rm\", \"rn\", \"ro\", \"rq\", \"rr\", \"rs\", \"rt\", \"ru\", \"run\", \"rv\", \"ry\", \"s\", \"s2\", \"sa\", \"said\", \"same\", \"saw\", \"say\", \"saying\", \"says\", \"sc\", \"sd\", \"se\", \"sec\", \"second\", \"secondly\", \"section\", \"see\", \"seeing\", \"seem\", \"seemed\", \"seeming\", \"seems\", \"seen\", \"self\", \"selves\", \"sensible\", \"sent\", \"serious\", \"seriously\", \"seven\", \"several\", \"sf\", \"shall\", \"shan\", \"shan't\", \"she\", \"shed\", \"she'd\", \"she'll\", \"shes\", \"she's\", \"should\", \"shouldn\", \"shouldn't\", \"should've\", \"show\", \"showed\", \"shown\", \"showns\", \"shows\", \"si\", \"side\", \"significant\", \"significantly\", \"similar\", \"similarly\", \"since\", \"sincere\", \"six\", \"sixty\", \"sj\", \"sl\", \"slightly\", \"sm\", \"sn\", \"so\", \"some\", \"somebody\", \"somehow\", \"someone\", \"somethan\", \"something\", \"sometime\", \"sometimes\", \"somewhat\", \"somewhere\", \"soon\", \"sorry\", \"sp\", \"specifically\", \"specified\", \"specify\", \"specifying\", \"sq\", \"sr\", \"ss\", \"st\", \"still\", \"stop\", \"strongly\", \"sub\", \"substantially\", \"successfully\", \"such\", \"sufficiently\", \"suggest\", \"sup\", \"sure\", \"sy\", \"system\", \"sz\", \"t\", \"t1\", \"t2\", \"t3\", \"take\", \"taken\", \"taking\", \"tb\", \"tc\", \"td\", \"te\", \"tell\", \"ten\", \"tends\", \"tf\", \"th\", \"than\", \"thank\", \"thanks\", \"thanx\", \"that\", \"that'll\", \"thats\", \"that's\", \"that've\", \"the\", \"their\", \"theirs\", \"them\", \"themselves\", \"then\", \"thence\", \"there\", \"thereafter\", \"thereby\", \"thered\", \"therefore\", \"therein\", \"there'll\", \"thereof\", \"therere\", \"theres\", \"there's\", \"thereto\", \"thereupon\", \"there've\", \"these\", \"they\", \"theyd\", \"they'd\", \"they'll\", \"theyre\", \"they're\", \"they've\", \"thickv\", \"thin\", \"think\", \"third\", \"this\", \"thorough\", \"thoroughly\", \"those\", \"thou\", \"though\", \"thoughh\", \"thousand\", \"three\", \"throug\", \"through\", \"throughout\", \"thru\", \"thus\", \"ti\", \"til\", \"tip\", \"tj\", \"tl\", \"tm\", \"tn\", \"to\", \"together\", \"too\", \"took\", \"top\", \"toward\", \"towards\", \"tp\", \"tq\", \"tr\", \"tried\", \"tries\", \"truly\", \"try\", \"trying\", \"ts\", \"t's\", \"tt\", \"tv\", \"twelve\", \"twenty\", \"twice\", \"two\", \"tx\", \"u\", \"u201d\", \"ue\", \"ui\", \"uj\", \"uk\", \"um\", \"un\", \"under\", \"unfortunately\", \"unless\", \"unlike\", \"unlikely\", \"until\", \"unto\", \"uo\", \"up\", \"upon\", \"ups\", \"ur\", \"us\", \"use\", \"used\", \"useful\", \"usefully\", \"usefulness\", \"uses\", \"using\", \"usually\", \"ut\", \"v\", \"va\", \"value\", \"various\", \"vd\", \"ve\", \"ve\", \"very\", \"via\", \"viz\", \"vj\", \"vo\", \"vol\", \"vols\", \"volumtype\", \"vq\", \"vs\", \"vt\", \"vu\", \"w\", \"wa\", \"want\", \"wants\", \"was\", \"wasn\", \"wasnt\", \"wasn't\", \"way\", \"we\", \"wed\", \"we'd\", \"welcome\", \"well\", \"we'll\", \"well-b\", \"went\", \"were\", \"we're\", \"weren\", \"werent\", \"weren't\", \"we've\", \"what\", \"whatever\", \"what'll\", \"whats\", \"what's\", \"when\", \"whence\", \"whenever\", \"when's\", \"where\", \"whereafter\", \"whereas\", \"whereby\", \"wherein\", \"wheres\", \"where's\", \"whereupon\", \"wherever\", \"whether\", \"which\", \"while\", \"whim\", \"whither\", \"who\", \"whod\", \"whoever\", \"whole\", \"who'll\", \"whom\", \"whomever\", \"whos\", \"who's\", \"whose\", \"why\", \"why's\", \"wi\", \"widely\", \"will\", \"willing\", \"wish\", \"with\", \"within\", \"without\", \"wo\", \"won\", \"wonder\", \"wont\", \"won't\", \"words\", \"world\", \"would\", \"wouldn\", \"wouldnt\", \"wouldn't\", \"www\", \"x\", \"x1\", \"x2\", \"x3\", \"xf\", \"xi\", \"xj\", \"xk\", \"xl\", \"xn\", \"xo\", \"xs\", \"xt\", \"xv\", \"xx\", \"y\", \"y2\", \"yes\", \"yet\", \"yj\", \"yl\", \"you\", \"youd\", \"you'd\", \"you'll\", \"your\", \"youre\", \"you're\", \"yours\", \"yourself\", \"yourselves\", \"you've\", \"yr\", \"ys\", \"yt\", \"z\", \"zero\", \"zi\", \"zz\"]"
   ]
  },
  {
   "cell_type": "code",
   "execution_count": 11,
   "metadata": {},
   "outputs": [
    {
     "name": "stdout",
     "output_type": "stream",
     "text": [
      "['w5z82kda', 'fv17a939', 'lj2iu7z0', 'pme1llph', 'adq7x4a3', 'kxb17zx4', 'uzxxydnu', 's1mym0kq', '1aw5vsal', 'ptxrchih', '7rjzontt', 'smfve2ur', 'a7sz6e3c', 'cj55sbhz', 'zdry1yaz', 'lduu36km', 'mgoo7c5n', '58uh646f', 'tzhoikgf', 'a3fyogdp', 'kc68ekcn', 'rl1phksp', '9baof9z8', '4lruc5or', '3zrso957', 'sydcbalt', 'zwn1rj4s', 'mx6dlmr8', 'gdktdedr', 'tcqp8qd2', 'df8c6v2c', 'ml7ndk9b', 'mc7j72rl', 'eo2pcgix', 'ij04cq14', 'po9mduz3', '5drg49r2', 'sgvohp28', 'xklbnvom', 'wn8u7u9y', 'iy85m382', 'go13g8ae', 'gtmpn7vo', 'smnu122h', '29qw1tlu', 'kpv31zzs', 'wfsfunap', '4bowti05', 'khdyxiwe', 'i4e5toi0', 'iwq74do9', '0s3btp4p', 'ekglbwrl', 'x40p792q', 'fpui9i7z', 'ydz7w3w8', 'aeyz2t6c', 'e8744fcw', 'o49lljoo', 'didlhp47', 'abzpfdcu', 'ff1lkeq0', 'd7stppv5', 'v3d0568l', 'sj59rzlh', 'emqcxgvj', 'ifhv051s', 's6oi477q', '39mfts0g', '9uirx1da', 'xe07x65h', 'a1lpume8', '13trw5qg', 'oojclva4', '5noy24p7', '9ojr7oic', '3dvt6uj7', 'abbc0z0j', 'u8xumgep', 'fqebwdy1', 'i675f1oz', '3m2q8sz1', 'hffga2mh', 'jih0euqm', 'fo8q0lai', 'kgiqcgyu', '1pujz3em', 'vmvvz0y2', '8skseait', '00o8pkyk', '1pwlctxb', 'o8wssuuq', '79kyjpyn', '387spphe', '1n7dx35k', '3uif1ve9', 'ssmk0i6n', 'avkzujrj', '90bwlo49', '1bzn4f58', '4tclonmi', 'bi16aim8', 'mjjjciff', 'eebsywlz', 'tc3re52f', '7113c613', '21sxkwzl', 'rndc2v2b', '5q35rzqg', 'pq5gv2qx', 'qgkpugde', 'd1c1wqfq', 'd99qjip3', 'kieuwhol', '4rghjdqm', 'nt61m84v', 't5iqy80h', 'svyy9hym', 'sdx64c1k', 'gcwrill0', 'huidye73', 'o3fwldko', '94chzrsp', 'beslk2qd', '8niqpwvc', '6of9ainx', '99c1wgid', 'rjez1llq', '4lrzpfrx', '34hw4oeg', 'a54k6gds', 'uvymjlfy', 'nd4ivbjm', 'zzslm90b', 'kec1o4ys', '0ew54gmb', '05t60u3p', '9oknjkem', 'wcqb3y29', 'nbv7zc4v', 'r3rlykli', 'bbj4r81i', 'vq87yxbn', '78hbvvk9', '2rxn0mxc', 'e9gxpev9', 'bwfpf02e', '0j6th4k0', 'cx3v56ri', '5jtii3aj', 'biccgi74', 'vgfxgn03', '9f48e4ds', 'crsii3pu', 'uw8n20aw', 'gg33c9cb', 'lai0otkm', 'ew4dwukn', 'tpe6u1rf', 'ugx8qlnx', 'zt9mxom1', 'pp3q022y', 'par1wdfu', 'bjvg2ivr', 'x76pwmfb', '46aln4tk', '1tvdbkwo', 'yi57n8nc', 'tzuyl4lm', '3ef931d4', 'ltlf54f1', 'swykkjr7', 'gyzosxmz', 'rwix6vpk', 's5p4387h', '4m1b7qvm', '48lpb69q', 'iaannp5k', 'pww29kgs', 'qi8ofkgg', 'le131rj3', 'yroqdfbx', 'p4tp8qcb', '5ic3xqfu', 'wxhpo17g', '6sodg25w', '760cnog3', 'moldq0u9', 'up74p9v1', '30nns81z', 'k47s1c0l', 'pt1rxibl', '5xu73o1y', '265try9i', '2u072mtp', 'py8lbg97', 'tn2x3n5u', 'ue7xk7ji', '8lqagx4m', 'ti3thuv4', 'in571x0o', 'sgc2xewk', 'u8zlc3n2', '0tlpwvky', 'ykopisj3', 'x0rss6uk', '8flgy7xd', 'qtcqaqsi', 'pvkb4ij8', '1ip4a05u', 'd8s6brb5', 't0tv0lxs', 's337jpbo', '2926fi2z', 'caf0fu0p', '0p4tdq1b', 'lvpvl1fj', '4xss3bzv', 'udsfcsvf', 'n77vxgi9', '7o6ij2qj', 'hqg5j51t', 'zl205aff', 'gdc1doqq', 't4f6r800', '46e7xb7b', '1esb0i4b', 'thx2xtsl', '2fzcsuvo', 'kuxt0wc0', 'gpr49u3l', 'e5hi63rm', 'lybddz5y', 'e5u1ymz9', 'zfhzlxtd', 'i9leac6w', 'lxwm71jp', '8enehf49', '0j1jdd1w', 'nvrgjmz5', '8f1arjw1', 'ebpam5lz', 'dtw9kjmm', 'krqe4jfy', '1bddbvmx', 'oabt7r7e', '8sq85wtu', 'dxadip40', 'lwgq7a6d', 'td5krq6y', 'yztlb0fn', 'q88o62uu', 'jcueu1xh', 'uazvenmu', 'du2zxq96', 'rwry9y8t', 'ff04vt1d', 'bi8jvxvp', 'lazqwdn0', '96ueyg6g', 'uq4eobf0', 'uep2tfnu', 'rhkr6t3w', 'bigpfxg8', 'ngm7jipa', '7v5wpu88', 'v5dt04vt', 'ohzkpbwy', 'wzxcrwea', 'q71jn9jj', '9jxv1v8i', 'qnxgpe97', 'gcuabn9e', 'nv5i2aje', 'a7uzynk6', '7ydvnap5', 'enhgno24', 'pd7r01yf', 'r3254pd3', '4y44yooa', '662pfa61', '5vlyshug', 'tmdmgr8o', '3j6j04ux', '5f4c1qn6', 'dg9ggbjz', '9f8jggvh', '7lch0qs3', 'be8eu3qi', 'mr7grho4', '6qk5avn0', 'tkzt8klx', 'p3ncdx66', 'gchbrj72', '9pj5xqks', 'wlexi3ag', 'h8fgbnlc', 'ai2yno3r', 'ba24rkr1', '01v2ittu', '7atoko6c', '5onhaln3', 'psp7ircc', 'tkr457a4', 'wln1ayq2', '0qdtup53', 'r3lgpdqq', '6krqeqva', 'dpt7sh4h', 'egvw93ff', 'erplojnu', 'qca8ngd9', 'r2a5nq56', 'pqgd9pcf', '6470qlu1', 's0lk1812', '1ud6wwzd', 'fsq3rvyb', '1qjmktdl', 'fimsjzzz', 'xmh4c2j4', '8op97xoo', 'ynqlsu9s', '0p5vlaia', 'ri9ncm86', 'yxejvexc', 'mrkbj5fd', 'gtuopvr2', 'lptyk6n4', 'rv54ypn6', '4zcb1p4t', 'm4zfib3f', 'woo0rawx', '3yt686i3', 'cvut9xsj', 'pjnbfqq6', '5f60v11p', 'fgxbyb7l', 'v5js0ssk', 'cgjmyi5q', 'dovujk88', 'cyukdng7', 'cquuqbt3', 't83hb59q', 'axn5dgkh', '0axat09v', 'mig05wo0', 'gkoq7tlu', '40lizi8f', 's897lhcz', 'o361b98w', 's70oxjui', 'k3feptqa', 'adpenoxs', 'jcqhxzih', '9bihmw9z', '806n2jrw', '5awtx1n9', 'k54e3lbu', 'vznc74gp', 'xthbrudv', 'baodjrw2', 'sflu2was', 'tr8yem9g', 'i5bsbb58', '6m1ml0cn', 'bi12wev6', 'ndp8zydb', '8jhwamfv', 'amhj8ljl', 'apkbzwcc', 'pu6wni0e', 'clzxo1ly', 'b57akavz', '91qal8mc', 'uu57hsns', 'eg9kef2y', 'uv7i4zve', '4vk6pl48', '3dv28281', 'dmudv5hz', 'ybxnd9ni', '9gt30fkc', 'rkr6gtyv', '1exyjhj0', 'e6xjand8', 't0hs063s', 'ajw4j8b8', 'l702xzgl', 'bdt89akw', 'kv8j7h0y', 'yl6phd5i', 'iu0h4p2u', '8ns50ghm', 'i2mw9289', 'b8ulkct5', '2zkozn5m', 'cx6smyxt', 'gocycb7u', 'p9ede422', '7rnhqodj', 'n1nytr6k', 'rjetz1c8', 'v66ltpsz', '9uqespwt', 'yz84m9lh', 'fa6kbjif', 'ztoxg354', 'l8d76mx2', 'l5q5wc06', 'fbxfqez7', '6b5l9kgl', 'knfxnvbc', '9gllxpjd', 'ymimvoq9', '5zxw4749', 'p8epjlce', 'd4sjferd', 'zjupwtbh', '915x3q19', '5uhpexf9', 'joom2ppn', 'emmpfvsw', 'qb2674h7', 'm4swpjds', 'ktwqlubw', 'cwe79xfv', 'wgvxobv2', '64mrflcr', 'bvclwpo3', 'iwkrbrli', 'zwqycuw4', 'hx0knjc2', 'e37i5j5x', 'q06r0duu', 'kiwfppht', 'h8z534qw', 'wtpiffsy', '69znhqpb', 'hpm75mh0', 'dapkxiyy', '8ubyjh27', '4kl6h1jr', 'zv45usvu', 'qmxnnbop', '1mxg0xvx', '5x13jai5', 'au3l45av', '7v3ty3nn', '9n9irx70', 'qry96nn5', 'h59ikemd', '4x9anilx', 'f2hxpat3', 'rsod94b7', 'wf6rnsg0', 'yanswpdf', '033wul82', '7mfi16rd', 'wxm8kqnd', 'sbye6txv', 'xcw98ktg', '9pq88x6l', 'iebozg39', '6vfrs6q9', '1tz62rgr', '3iuozwp4', 'ze4bvjkt', 'f73uff3m', '4el86bz7', 'nfzpjs2j', '2oudure1', 'uba6dy08', '59nqvtzy', '5g14q9h8', 'j8ocbv4c', 'a4ulg4ck', '33cgz7ob', 'ql90ob88', 'p7awshrb', 'x9q6pqgw', 'hw4adeg9', 'w8556uis', 'p4iqplsz', 'j1qyn762', 'uixx25d3', 'j2381kix', '859cddbw', 'oo0e1lsd', 'zw6zvni4', 'lchsdys1', '0pt4jibz', 'b7p92sb1', 'brsptme2', 'x117ha7c', 'cbdu985t', 'b7qys1xy', '8ravbor6', 'dtg18ob5', '91bldl8x', 'blbt8wci', '4trrk8eg', '958630xh', '35t0m0tl', '7rqk6r35', 'cbfvxjkh', 'fnl9r1yz', 'p0g7kbn6', 'xz317t08', 'opuke5fe', 'gusgc64a', 'efvv4hok', 'uzch2hwd', '2s1xwxia', '9pvqesdo', 'jwmppjf4', 'm5pjaouf', '5q7trv75', 'nx6hmjyz', 'fr7iktd4', 'nquw7qga', '0s1zgnyk', 'xlyqhkgr', 'yd5bjkbt', 'empemq13', '616sij3j', '10jlzjf0', 'z4xs0qob', 'urs3ikee', 'qe603rpo', 'c981zfz6', '8fm6lbl1', 'p133hmzo', '7e03hig1', '3bzpg5mg', 'hhg70lzh', 'fe3pabkl', '0ziibbxk', 'q6zrmfud', 'zodc3mjt', '9gavn1sk', '4hxa6vvw', '9chszfvb', '7wej2m7w', 'ao2v4qdj', 'uvr3bskn', '9470fpoz', 'pktq48sh', '2tbage45', 'pis57zmj', '0g22sfv7', '8fwg5lht', 'ee6kxivk', 'n6tyn4bh', 'fnguelau', 'zzxjv666', '438mlefk', 'jibxwr7t', 'b6xgkmsu', 'dcbsr8sv', 'p6ko7frm', 'yvn2c312', 'hne4th5x', 'y6w257bf', '6f1vqkqm', 'y1ob8tcq', 'a9j5bf5r', 'lthz75oc', 'g7elr3jo', '8rrhwr1o', 'z6ptfnhg', 'v2pdc7zt', '6pm4gq6r', '5jb0lc7i', 'yoe2bsdo', 'yu69sj3q', 'f6ozr39o', 'jxf94j1e', '7o6isshu', 'x3mmma22', 'msayw5t8', 'eatgrddn', '1i9rk5bx', '94cslcso', '4u0tljo7', 'p0ggxr57', '9luyykf4', 'yieb3xxh', '7d71xfsg', 'n7f3hpk9', '8bug2o5b', 'lurd9xqe', 'xttbzbl7', 'gc3ogrpi', 'rb4ceuug', 'n40ofd89', 'muxrxvyo', 'd5iepbvm', 'bittel5v', 'qsx19dah', 'fid8eiwa', 'cm1lote4', 'o7mzeqfh', 'rugl5kc6', 'zfhdxujv', '0bdi3yxk', 'raxv6wst', 'aw1uzt8z', 's3mv8164', 'pr8si1ri', 'jph9r4ci', 'tpd8zjh1', 'obes9kjl', 'pph9k50n', '6kiez1m7', 'jzngtd06', 'lw62wgle', 'wtestt8i', 'nitw83cl', 'rd0t9icj', '63xtga7h', 'bp0l28uz', 'mnj2969y', 'vg4d0igo', 'olb46120', 'id8sfepi', '9l8nuz5g', 'woxzhdgh', 'uec0klzg', 'z58yqr9d', 'aetanzm2', 'ux9es4kw', 'tolpbpsl', '9309aig5', 'uem8p0r7', 'dwe44ajj', '5v2h724y', 's1kcp9k6', 'y8ynk50h', 'zxeyjybs', 'g0vm865g', 'd8gmiqoh', 'ubuyh6ys', '0806qoah', '7um9ycft', 'gkysknzn', '59zon1h0', 'zpn2h9mt', 'yyqe01cb', 'xqj877en', 'm2mk4pw7', '1ijs7vaz', 'fx2jel6m', 'rwe5j1mz', 'jv3h11dk', '7clt7ia7', 'plc853cu', 'tfw4zqiy', '0twgbu21', 'r506xjxu', 'k4635joq', '26pmh8sm', 'wbftiz3v', 'wa4ao8eq', 'x4kdhtz8', 'xymiria7', 'b2rzadcl', '9ak33z7l', 'du9vap00', 's0u644q1', 'r2gs4qxf', '5hg7aa16', 'th7py3j6', '29naooaz', 'bwl5acq3', 'gb7nn8b7', '8uhfatnb', 'jvsdpihf', 'znawn2sc', 'blhk7xik', '4p21h755', 't5tev985', '5nhtuya7', 'ehutypfk', '5m0fhoki', 'gt4bel0t', 'o3rxe56a', 'g71ws59z', 'ld7ssckb', '6x968dwk', 'y86nko05', 'ywmlu6qb', '0ourzdtt', 'rtltvvtj', 'c4d1ttso', 'ohba2n2o', 'jooqvyoz', '9crz1lyj', 'b6gw7c6d', 'xji0jz9d', 'ize3fhg3', 'ggqsvlpq', '5x6cgod0', '6o66a4i5', 'm0v9f5as', 'd82pcg3m', 'vcqfxzir', 'kf8xa2hf', 'nscm8coy', 'm0vpizuh', 'z72x17f7', 'abo32lqk', 'rqcqih4b', 'lkmno60x', 'mdfrgwfd', '82kqdybd', 'y2yy92t2', 'f0i6zb6a', 'd5no2uwt', 'yb65edxq', '0rm2fzu0', 'tx5cql1a', 'klcf0eqc', '779j4qqc', 'nwdgphxa', '4di2te1b', 'i43xer43', 's16n7f17', 'bhbji57x', 'z6t1uk7u', '2wi69z2e', 'kenc53dp', 'mx36qhve', 'nz3tq2xc', 'ygd3ia03', 'ie3msqwt', 'caecdgdl', '6e95cidg', 'hzczllxp', '5q69h2mp', 'yx2yq1fw', 'x450k8jx', 't0wg9vqs', '70lhsi11', '5v7wsned', '1uzabimp', 'lnnfv84n', '9ayg1tv0', 'hktz816l', 'fddtp96c', 'a3g92j3u', 'i6tuhjfh', 'p619j68t', 'otc9ghei', 'wzvsx8um', 'dqv7gr7t', '1idu68su', 'nthxicak', 'qa9d3pny', 'se1uxa4q', 'vg9vsews', 'ncorfshl', 'hfzcejzi', 'qw1mig76', 'm0o6ablt', 'u8ke6hsb', 'kwz1ywyp', 'uzch5f95', 'lzkk37u1', 'p07uggpq', 'ef1tsty3', 'p3ubqjl5', 'jayvl0hq', 'f8exyewx', '7xrp90ja', '1s8eyaoo', 'bvnzrcb7', '1ibx66om', '8977qi0j', 'suykcex2', 'b378ppd8', 'wpjtb34g', 'hbpuc7a3', 'es3vtnj3', 'kwow6bsv', '08a7zv6m', 'rxfmq7eh', '5ucfs2yx', 'agurctan', '6m1pmpml', '6yvyn401', 'srfo7bvo', 'ztmcrrt8', 'bnb2f1zy', '17od0sz1', 'fct4fi4h', '5h1noxrj', '29hwmnqa', 'ii2s9scw', '73isrf8r', 'qadhft2p', 'xdt9u7ga', 'ydjzh5rz', '9vqablhp', 'd4wd05tl', 'xu4dukbf', 'gi3vh4t6', 'xc4c7dkk', '3y3h5c28', 'd93d3mds', '4d33eg4e', 'x3j1isvp', 'r25dfrgb', '0zz4sw5o', 'aeq4gc7c', '9w2qv9p3', 'n8joz1o6', 'fphkgvgv', 'p0ozx3c0', 'liadkvi9', 'mwrumir3', 'rzj773h8', 'uxk52xbe', 'mazsrw2v', 'ljpd6r4b', '0hf1z2xg', 'cgky6ar6', '0yov88hd', 'gi7vclon', 'o8l1vxbu', 'tm0na3od', 'mdwjrfzp', '3u5tv6xe', 'in2sunsy', 'qqxnegbf', 'ip79s9ey', 'v5w6senz', 'gsdv09ka', 'tfo6b6pa', 'lxxsfczf', '6rryhixu', 'fdangfb4', 'suviqy15', 'u7cv7qwl', '1cn1le4p', 'bayeyyjt', '416zo2hq', 'hsbn1ndv', 'nv4sbpc7', 'dfc6hs01', '0iltp0bo', 'a9jkf66m', 'wv9n2e2o', '02wvakhw', 'tp606gp1', '8zibc02i', 'ravcgw1m', 'qfy3xzdk', '2zua4mji', 'm3rv59km', 'jah5yvpo', 'ijh2vcds', 'ibfcfdcw', 'lrf75ze3', '6qkxkzhh', 'k3ysiecr', 'phgdbifj', 'plysskn3', 'a978oy64', '4cdvedlo', 'qvoqyqxc', '7kbq0v9w', 'y80spt8c', 'e63qtq8d', '3plx59iz', '36yxfnym', 'kxz1ptm4', 'v7si7wsr', 'seass3p0', 'bea2dw5c', '1jptefh3', 'v5wo6gmd', 't4jj9u73', 'ufiwwkeh', 'b92u7dtb', 'qpbr0tfz', '0nesxj6b', 'nctvxunn', '8wndnr06', '8cto831y', 'tfjykja2', '3l6xd5sx', 'eqlcltk7', 'pyeqi77u', 'd3tmh31i', 'lf9d0cq2', '6yb8k1gq', '0udd643y', 'q63ce5pi', 'sluhhj63', 'qppgfs81', 'eaqdm4xm', 'ue6a2oou', 'xqaaegu7', '7cujfq3x', '6f65zvld', 'wk02nzav', 'iwuhb6uy', 'jsjqfwcz', '1k6oegu4', 'mbz7w28g', 'cnlvyey4', 'oub52ns2', '7kp62hcd', 'fn3yog1i', 'xv6ehm0w', 'r2q9epb4', 'mj6ejizu', 't45tpado', 'qi6qmgk2', 'gihg7nwr', 'on10hmnx', '7m07z9ks', '0rfon9nx', 'lrm4jwud', 's2qnhswe', '9m11cmj3', 'tnwfp1je', 'nk5hlh9z', '4202dqgz', 'cqqm1y4u', 'ofhg07u0', '94aaa3gq', 'a6etw4jo', 'pbetnkot', 'ivb4awch', '8tzkohds', '50canjze', 'chnfe15v', 'qv2x9oai', 'bz038f71', 'qh7nm1xn', 'mv7b71tx', 'fpot1tw7', '2i80gydr', 'y3ed1kqv', 'th4gau5a', 'bvava85t', 'ngbrh8sr', 'j1kfeaad', 'q481okmd', 'ch15d01o', '8cq0oyqw', 'ek7qvjva', 'ijol8071', '1e5e033r', 'mv8ekleh', '1yka7ej9', 'uvpv3w4o', 'v3tvj3rc', '36g4zdqa', 'jiqjbis7', 'i3ozzuk0', 'ibdbwwi4', '2xxbqgy3', '98v34es3', 'xtbrilga', 'smfpzdpe', '1hlrx7o4', 'fvmyh6tt', 'nby8nmzw', 'zqoy3jfm', 'llilwq1u', 'yb6h4zbe', 'oq64d1mb', 'qudnk2me', '7dp7l08r', '9l7uwvpn', 'jbe2rf0g', 'gfxlnpa4', 'e4e0kzio', '4hvfyxsd', '42fzvvrz', 'u8ykjrpv', 'hx319lwc', '5u90oin9', 'qwk0jkqm', '1koae4go', 'kpt82qlk', '734t0ddx', 'eqasxn6x', 'c1jd64w1', '9dcs0ew7', 'nbjzsfmw', 'w6nnsx6q', 'lp6uagcn', '99mpx3l9', '989qzjqs', 'gx5mj3fp']\n"
     ]
    }
   ],
   "source": [
    "num_covid_docs = 500\n",
    "num_all_docs = 500\n",
    "\n",
    "covid_uids = []\n",
    "all_docs_uids = []\n",
    "\n",
    "\n",
    "with open('metadata.csv') as cord19:\n",
    "    reader = csv.DictReader(cord19)\n",
    "    questions = list(reader)\n",
    "    \n",
    "    covid_docs_count = 0\n",
    "    all_docs_count = 0\n",
    "    \n",
    "    while(covid_docs_count < num_covid_docs):\n",
    "        random_doc = random.choice(questions)\n",
    "        is_covid = bool(re.search('COVID-19', random_doc['abstract'], re.IGNORECASE) or re.search('COVID', random_doc['abstract'], re.IGNORECASE))\n",
    "        while(not is_covid):\n",
    "            random_doc = random.choice(questions)\n",
    "            is_covid = bool(re.search('COVID-19', random_doc['abstract'], re.IGNORECASE) or re.search('COVID', random_doc['abstract'], re.IGNORECASE))\n",
    "\n",
    "        covid_docs_count = covid_docs_count + 1\n",
    "        if(random_doc['cord_uid'] not in covid_uids):\n",
    "            covid_uids.append(random_doc['cord_uid'])\n",
    "            \n",
    "    while(all_docs_count < num_all_docs):\n",
    "        random_doc = random.choice(questions)\n",
    "        is_covid = bool(re.search('COVID-19', random_doc['abstract'], re.IGNORECASE) or re.search('COVID', random_doc['abstract'], re.IGNORECASE))\n",
    "        while(is_covid):\n",
    "            random_doc = random.choice(questions)\n",
    "            is_covid = bool(re.search('COVID-19', random_doc['abstract'], re.IGNORECASE) or re.search('COVID', random_doc['abstract'], re.IGNORECASE))\n",
    "\n",
    "        all_docs_count = all_docs_count + 1\n",
    "        if(random_doc['cord_uid'] not in all_docs_uids):\n",
    "            all_docs_uids.append(random_doc['cord_uid'])\n",
    "    \n",
    "print(list(numpy.concatenate((covid_uids, all_docs_uids))))\n",
    "#print(covid_uids)\n",
    "#print(all_docs_uids)"
   ]
  },
  {
   "cell_type": "markdown",
   "metadata": {},
   "source": [
    "## JSON builder and topic builder"
   ]
  },
  {
   "cell_type": "code",
   "execution_count": 12,
   "metadata": {},
   "outputs": [],
   "source": [
    "class Builder:\n",
    "    def __init__(self, metadata, progress_bar):\n",
    "        self.metadata = metadata\n",
    "        self.progress_bar = progress_bar\n",
    "        self.entries = {}\n",
    "        \n",
    "        self.nlp_sentences = spacy.load('en_ner_craft_md')\n",
    "        self.linker = EntityLinker(resolve_abbreviations=True, name=\"mesh\")\n",
    "        self.nlp_sentences.add_pipe(self.linker)\n",
    "        \n",
    "        #self.zsl = ktrain.text.ZeroShotClassifier()\n",
    "        #self.linker = EntityLinker(resolve_abbreviations=True, name=\"umls\")\n",
    "        \n",
    "        self.rac = ResearchAspectClassifier(RESEARCH_ASPECTS)\n",
    "        progress_bar.value += 25\n",
    "        \n",
    "    def return_dict_uids(self, uids=None):\n",
    "        reader = csv.DictReader(self.metadata)\n",
    "        papers = {}\n",
    "\n",
    "        for row in reader:\n",
    "            if(uids is not None):\n",
    "                if(row['cord_uid'] in uids):\n",
    "                    papers[row['cord_uid']] = {'title': row['title'], 'abstract':row['abstract'], 'publish_time':row['publish_time']}\n",
    "            else:\n",
    "                papers[row['cord_uid']] = {'title': row['title'], 'abstract':row['abstract'], 'publish_time':row['publish_time']}\n",
    "        \n",
    "        return papers\n",
    "        \n",
    "        \n",
    "    def return_docs_dict(self, papers):\n",
    "         \n",
    "        progress_paper = 75.0/float(len(papers))\n",
    "                                \n",
    "        for i, (uid, paper) in enumerate(papers.items()):  \n",
    "            if((i % 1000) == 0):\n",
    "                print(i)\n",
    "                \n",
    "            try:\n",
    "                abstract_nlp = self.nlp_sentences(paper['abstract'])\n",
    "                sentences = [sent.text.strip() for sent in abstract_nlp.sents]\n",
    "\n",
    "                classified_abstract = self.rac.classify_abstract(sentences) \n",
    "                    \n",
    "                is_covid = bool(re.search('COVID-19', paper['abstract'], re.IGNORECASE) or re.search('COVID', paper['abstract'], re.IGNORECASE))\n",
    "                ents = [ent for ent in abstract_nlp.ents]\n",
    "                umls_ents = []\n",
    "                \n",
    "                #    umls_ents.append({'id': 'A', 'name': ent.text,'label': ent.label_})\n",
    "\n",
    "                for ent in ents:\n",
    "                    try:\n",
    "                        already_added = False\n",
    "                        for umls_ent in umls_ents:\n",
    "                            if(umls_ent['id'] == self.linker.umls.cui_to_entity[ent._.umls_ents[0][0]].concept_id):\n",
    "                                already_added = True\n",
    "                                break\n",
    "\n",
    "                        if(not already_added):\n",
    "                            umls_ents.append({'description': self.linker.umls.cui_to_entity[ent._.umls_ents[0][0]].definition,'id': self.linker.umls.cui_to_entity[ent._.umls_ents[0][0]].concept_id, 'name': self.linker.umls.cui_to_entity[ent._.umls_ents[0][0]].canonical_name,'label': ent.label_})\n",
    "                    except Exception as e:\n",
    "                        pass\n",
    "\n",
    "                \n",
    "                #if(len(sentences) > 0):\n",
    "                #    macro_topic = self.zsl.predict(sentences, topic_strings=MACRO_TOPICS, include_labels=True)[0][0] \n",
    "                #else:\n",
    "                #    macro_topic = \"\"\n",
    "\n",
    "                self.entries[uid] = {'title': paper['title'],'abstract': classified_abstract, 'is_covid': is_covid, 'umls_ents': umls_ents, 'publish_time': paper['publish_time']}\n",
    "            except Exception as e:\n",
    "                pass\n",
    "            \n",
    "            progress_bar.value += progress_paper\n",
    "\n",
    "        print('== Done Building Docs Dictionary ==')\n",
    "        return self.entries\n",
    "    \n",
    "    def return_topic_models(self, docs_dict, aspects_to_train):\n",
    "        topic_models = {'covid_papers':{}, 'all_papers':{}}\n",
    "        texts = {'covid_papers':{}, 'all_papers':{}}\n",
    "        uids = {'covid_papers':[], 'all_papers':[]}\n",
    "        build_docs = {'covid_papers':{}, 'all_papers':{}}\n",
    "        \n",
    "        for aspect in aspects_to_train:\n",
    "            texts['covid_papers'][aspect] = []\n",
    "            texts['all_papers'][aspect] = []\n",
    "            \n",
    "            build_docs['covid_papers'][aspect] = []\n",
    "            build_docs['all_papers'][aspect] = []\n",
    "            \n",
    "        \n",
    "        for i, (uid, doc) in enumerate(docs_dict.items()):  \n",
    "            #if(doc['is_covid']):\n",
    "            #    uids['covid_papers'].append(uid)\n",
    "            #uids['all_papers'].append(uid)\n",
    "            \n",
    "            for aspect in aspects_to_train:\n",
    "                if(aspect == 'Whole'):\n",
    "                    whole_text_dict = {}\n",
    "                    whole_text = ''\n",
    "                    for aspect in RESEARCH_ASPECTS:\n",
    "                        for sentence in doc['abstract'][aspect]:\n",
    "                            whole_text_dict[sentence[0]] = sentence[1]\n",
    "\n",
    "                    for key in sorted(whole_text_dict):\n",
    "                        whole_text+= whole_text_dict[key]\n",
    "                        \n",
    "                    if(len(whole_text) < 10):\n",
    "                        whole_text = doc['title']\n",
    "\n",
    "                    if(doc['is_covid']):\n",
    "                        uids['covid_papers'].append(uid)\n",
    "                        texts['covid_papers']['Whole'].append(whole_text)\n",
    "\n",
    "                    texts['all_papers']['Whole'].append(whole_text)\n",
    "                    uids['all_papers'].append(uid)\n",
    "                    \n",
    "                else:\n",
    "                    #if(len(doc['abstract']))\n",
    "                    \n",
    "                    joined_text = ' '.join([sentence[1] for sentence in doc['abstract'][aspect]])\n",
    "                    \n",
    "                    \n",
    "                    if(len(joined_text) > 10 and len(doc['abstract'][aspect]) > 0):\n",
    "                        if(doc['is_covid']):\n",
    "                            uids['covid_papers'].append(uid)\n",
    "                            texts['covid_papers'][aspect].append(joined_text)\n",
    "\n",
    "                        texts['all_papers'][aspect].append(joined_text)\n",
    "                        uids['all_papers'].append(uid)\n",
    "                \n",
    "        for i, (classification, aspects) in enumerate(texts.items()):  \n",
    "            for z, (aspect, docs) in enumerate(aspects.items()):  \n",
    "                try:\n",
    "                    #0.85\n",
    "                    topic_models[classification][aspect] = ktrain.text.get_topic_model(docs, min_df=0.001, max_df=0.65, lda_max_iter=15, stop_words=stop_words, verbose=False, n_features=1000000, hyperparam_kwargs = {'ngram_range': (1,3)})\n",
    "                    build_docs[classification][aspect] = docs\n",
    "                except Exception as e:\n",
    "                    print(e)\n",
    "                                            \n",
    "        return topic_models, uids, build_docs\n",
    "                        "
   ]
  },
  {
   "cell_type": "code",
   "execution_count": 13,
   "metadata": {},
   "outputs": [],
   "source": [
    "def zipdir(path, ziph):\n",
    "    # ziph is zipfile handle\n",
    "    for root, dirs, files in os.walk(path):\n",
    "        for file in files:\n",
    "            ziph.write(os.path.join(root, file))\n",
    "\n",
    "def create_dir(path):\n",
    "    try:\n",
    "        os.mkdir(path)\n",
    "    except OSError:\n",
    "        print (\"Creation of the directory %s failed\" % path)\n",
    "    else:\n",
    "        print (\"Successfully created the directory %s \" % path)\n",
    "    \n",
    "\n",
    "def build_files(metadata, progress_bar, aspects, is_test):\n",
    "    builder = Builder(metadata, progress_bar)\n",
    "    \n",
    "    create_dir('built_files')\n",
    "    \n",
    "    if(is_test):\n",
    "        docs_dict = builder.return_docs_dict(builder.return_dict_uids(test_uids))\n",
    "    else:\n",
    "        docs_dict = builder.return_docs_dict(builder.return_dict_uids())\n",
    "        \n",
    "    with open('built_files/docs_dict.p', 'wb') as fp:\n",
    "        pickle.dump(docs_dict, fp, protocol=pickle.HIGHEST_PROTOCOL)\n",
    "    \n",
    "    #with open('built_files/docs_dict.p', 'rb') as dict_docs:\n",
    "    #    docs_dict = pickle.load(dict_docs)\n",
    "    \n",
    "    #uncomment\n",
    "    #docs_dict = {}\n",
    "    #with zipfile.ZipFile('built_files_cord19ktool.zip') as zf:\n",
    "    #    with zf.open('built_files/docs_dict.p') as docs:\n",
    "    #        docs_dict = pickle.load( docs )       \n",
    "    \n",
    "    #with open('built_files/'+classification+'/uids.p', 'wb') as fp:\n",
    "    #    pickle.dump(uids[classification], fp, protocol=pickle.HIGHEST_PROTOCOL)\n",
    "        \n",
    "    topic_models, uids, build_docs = builder.return_topic_models(docs_dict, aspects)\n",
    "    \n",
    "    \n",
    "    for i, (classification, aspects) in enumerate(topic_models.items()):  \n",
    "        create_dir('built_files/'+classification)\n",
    "        \n",
    "        with open('built_files/'+classification+'/uids.p', 'wb') as fp:\n",
    "            pickle.dump(uids[classification], fp, protocol=pickle.HIGHEST_PROTOCOL)\n",
    "        \n",
    "        for z, (aspect, model) in enumerate(aspects.items()):  \n",
    "            create_dir('built_files/'+classification+'/'+aspect)\n",
    "            model.save('built_files/'+classification+'/'+aspect+'/'+aspect)\n",
    "            \n",
    "            with open('built_files/'+classification+'/'+aspect+'/docs.p', 'wb') as fp:\n",
    "                pickle.dump(build_docs[classification][aspect], fp, protocol=pickle.HIGHEST_PROTOCOL)\n",
    "    \n",
    "        \n",
    "\n",
    "        \n",
    "    zipf = zipfile.ZipFile('built_files_cord19ktool.zip', 'w', zipfile.ZIP_DEFLATED)\n",
    "    zipdir('built_files', zipf)\n",
    "    zipf.close()\n",
    "    "
   ]
  },
  {
   "cell_type": "markdown",
   "metadata": {},
   "source": [
    "## SETUP JSON FILE FROM METADATA.CSV FILE"
   ]
  },
  {
   "cell_type": "code",
   "execution_count": 14,
   "metadata": {},
   "outputs": [],
   "source": [
    "\n",
    "RESEARCH_ASPECTS.extend(['Whole'])\n"
   ]
  },
  {
   "cell_type": "code",
   "execution_count": 15,
   "metadata": {
    "scrolled": true
   },
   "outputs": [
    {
     "data": {
      "application/vnd.jupyter.widget-view+json": {
       "model_id": "827896e5e1184327907cedf7358048cc",
       "version_major": 2,
       "version_minor": 0
      },
      "text/plain": [
       "FileChooser(path='.', filename='', title='HTML(value='', layout=Layout(display='none'))', show_hidden='False',…"
      ]
     },
     "metadata": {},
     "output_type": "display_data"
    },
    {
     "data": {
      "application/vnd.jupyter.widget-view+json": {
       "model_id": "98729e7b80f443c5bf03696879f051dc",
       "version_major": 2,
       "version_minor": 0
      },
      "text/plain": [
       "SelectMultiple(description='Research Aspects to train', options=('Background', 'Purpose', 'Method', 'Finding_C…"
      ]
     },
     "metadata": {},
     "output_type": "display_data"
    },
    {
     "data": {
      "application/vnd.jupyter.widget-view+json": {
       "model_id": "fdf4276b7b73432ab057906f19b3bcfc",
       "version_major": 2,
       "version_minor": 0
      },
      "text/plain": [
       "Button(description='BUILD FILES', disabled=True, icon='gear', style=ButtonStyle())"
      ]
     },
     "metadata": {},
     "output_type": "display_data"
    },
    {
     "data": {
      "application/vnd.jupyter.widget-view+json": {
       "model_id": "7f08a4bc0c5a41c5b43d2daab812092f",
       "version_major": 2,
       "version_minor": 0
      },
      "text/plain": [
       "Button(description='BUILD FILES FOR TEST PAPERS', disabled=True, icon='gear', style=ButtonStyle())"
      ]
     },
     "metadata": {},
     "output_type": "display_data"
    },
    {
     "data": {
      "application/vnd.jupyter.widget-view+json": {
       "model_id": "ca2a2ce0702549ebb47cd2d403450043",
       "version_major": 2,
       "version_minor": 0
      },
      "text/plain": [
       "FloatProgress(value=0.0)"
      ]
     },
     "metadata": {},
     "output_type": "display_data"
    },
    {
     "name": "stderr",
     "output_type": "stream",
     "text": [
      "/home/marcos/.local/lib/python3.8/site-packages/sklearn/base.py:329: UserWarning: Trying to unpickle estimator TfidfTransformer from version 0.22.2.post1 when using version 0.23.2. This might lead to breaking code or invalid results. Use at your own risk.\n",
      "  warnings.warn(\n",
      "/home/marcos/.local/lib/python3.8/site-packages/sklearn/base.py:329: UserWarning: Trying to unpickle estimator TfidfVectorizer from version 0.22.2.post1 when using version 0.23.2. This might lead to breaking code or invalid results. Use at your own risk.\n",
      "  warnings.warn(\n"
     ]
    },
    {
     "name": "stdout",
     "output_type": "stream",
     "text": [
      "== Done Loading ResearchAspectClassifier ==\n",
      "Creation of the directory built_files failed\n",
      "0\n"
     ]
    },
    {
     "name": "stderr",
     "output_type": "stream",
     "text": [
      "/home/marcos/.local/lib/python3.8/site-packages/scispacy/candidate_generation.py:283: VisibleDeprecationWarning: Creating an ndarray from ragged nested sequences (which is a list-or-tuple of lists-or-tuples-or ndarrays with different lengths or shapes) is deprecated. If you meant to do this, you must specify 'dtype=object' when creating the ndarray\n",
      "  extended_neighbors[empty_vectors_boolean_flags] = numpy.array(neighbors)[:-1]\n",
      "/home/marcos/.local/lib/python3.8/site-packages/scispacy/candidate_generation.py:284: VisibleDeprecationWarning: Creating an ndarray from ragged nested sequences (which is a list-or-tuple of lists-or-tuples-or ndarrays with different lengths or shapes) is deprecated. If you meant to do this, you must specify 'dtype=object' when creating the ndarray\n",
      "  extended_distances[empty_vectors_boolean_flags] = numpy.array(distances)[:-1]\n"
     ]
    }
   ],
   "source": [
    "def enable_btns_setup_server():\n",
    "    btn_setup_server.disabled = False\n",
    "    btn_setup_server_test.disabled = False\n",
    "    \n",
    "import time\n",
    "\n",
    "\n",
    "\n",
    "    \n",
    "title = widgets.Label(value='Upload the metadata.csv from CODA-19 to build files')\n",
    "\n",
    "aspects = widgets.SelectMultiple(\n",
    "    options=RESEARCH_ASPECTS,\n",
    "    description='Research Aspects to train',\n",
    "    disabled=False\n",
    ")\n",
    "\n",
    "btn_setup_server = widgets.Button(\n",
    "    description='BUILD FILES',\n",
    "    disabled=True,\n",
    "    button_style='', \n",
    "    icon='gear' \n",
    ")\n",
    "\n",
    "btn_setup_server_test = widgets.Button(\n",
    "    description='BUILD FILES FOR TEST PAPERS',\n",
    "    disabled=True,\n",
    "    button_style='', \n",
    "    icon='gear' \n",
    ")\n",
    "\n",
    "progress_bar = FloatProgress(min=0, max=100) \n",
    "\n",
    "def selected_file(fc):\n",
    "    enable_btns_setup_server()\n",
    "\n",
    "def pressed_build_files(btn):\n",
    "    display(progress_bar)\n",
    "    with open(fc.selected_path+'/'+fc.selected_filename) as cord19:\n",
    "        build_files(cord19, progress_bar, aspects.value, False)\n",
    "    \n",
    "    cord19.close()\n",
    "    \n",
    "def pressed_build_files_test(btn):\n",
    "    display(progress_bar)\n",
    "    with open(fc.selected_path+'/'+fc.selected_filename) as cord19:\n",
    "        build_files(cord19, progress_bar, aspects.value, True)\n",
    "    \n",
    "    cord19.close()\n",
    "    \n",
    "fc = FileChooser('./')\n",
    "display(fc)\n",
    "fc.register_callback(selected_file)\n",
    "\n",
    "\n",
    "btn_setup_server.on_click(pressed_build_files)\n",
    "btn_setup_server_test.on_click(pressed_build_files_test)\n",
    "\n",
    "#display(title)\n",
    "display(aspects)\n",
    "display(btn_setup_server)\n",
    "display(btn_setup_server_test)"
   ]
  },
  {
   "cell_type": "code",
   "execution_count": 16,
   "metadata": {},
   "outputs": [
    {
     "data": {
      "text/plain": [
       "997"
      ]
     },
     "execution_count": 16,
     "metadata": {},
     "output_type": "execute_result"
    }
   ],
   "source": [
    "len(test_uids)"
   ]
  },
  {
   "cell_type": "code",
   "execution_count": null,
   "metadata": {},
   "outputs": [],
   "source": []
  },
  {
   "cell_type": "code",
   "execution_count": null,
   "metadata": {},
   "outputs": [],
   "source": []
  },
  {
   "cell_type": "code",
   "execution_count": null,
   "metadata": {},
   "outputs": [],
   "source": []
  },
  {
   "cell_type": "code",
   "execution_count": null,
   "metadata": {},
   "outputs": [],
   "source": []
  },
  {
   "cell_type": "code",
   "execution_count": null,
   "metadata": {},
   "outputs": [],
   "source": []
  },
  {
   "cell_type": "code",
   "execution_count": null,
   "metadata": {},
   "outputs": [],
   "source": []
  }
 ],
 "metadata": {
  "kernelspec": {
   "display_name": "Python 3",
   "language": "python",
   "name": "python3"
  },
  "language_info": {
   "codemirror_mode": {
    "name": "ipython",
    "version": 3
   },
   "file_extension": ".py",
   "mimetype": "text/x-python",
   "name": "python",
   "nbconvert_exporter": "python",
   "pygments_lexer": "ipython3",
   "version": "3.8.5"
  }
 },
 "nbformat": 4,
 "nbformat_minor": 2
}
